{
 "cells": [
  {
   "cell_type": "markdown",
   "metadata": {},
   "source": [
    "### 1. 다음 리스트를 사용해 아래와 같은 문자열을 만들어 girlsday_info변수에 할당한 후, 콘솔에 내용을 출력하시오. [5점]"
   ]
  },
  {
   "cell_type": "code",
   "execution_count": 2,
   "metadata": {},
   "outputs": [],
   "source": [
    "girlsday_members = ['민아', '혜리', '유라', '소진']"
   ]
  },
  {
   "cell_type": "code",
   "execution_count": 9,
   "metadata": {},
   "outputs": [
    {
     "name": "stdout",
     "output_type": "stream",
     "text": [
      "- 민아\n",
      "- 혜리\n",
      "- 유라\n",
      "- 소진\n",
      "\n"
     ]
    }
   ],
   "source": [
    "girlsday_info = ''\n",
    "for member in girlsday_members:   \n",
    "    girlsday_info += f'- {member}\\n'\n",
    "\n",
    "print(girlsday_info)"
   ]
  },
  {
   "cell_type": "markdown",
   "metadata": {},
   "source": [
    "### 2. fruit_dict객체를 사용해서 아래와 같은 결과값을 갖는 문자열을 만들어 fruit_info변수에 할당 한 후, 콘솔에 내용을 출력하시오. [10점]\n",
    "\n"
   ]
  },
  {
   "cell_type": "code",
   "execution_count": 7,
   "metadata": {},
   "outputs": [],
   "source": [
    "fruit_dict = {\n",
    "    'red' : 'apple',\n",
    "    'yellow' : 'banana',\n",
    "    'green' : 'melon',\n",
    "}"
   ]
  },
  {
   "cell_type": "code",
   "execution_count": 37,
   "metadata": {},
   "outputs": [
    {
     "name": "stdout",
     "output_type": "stream",
     "text": [
      "[0] RED: Apple\n",
      "[1] YELLOW: Banana\n",
      "[2] GREEN: Melon\n",
      "\n"
     ]
    }
   ],
   "source": [
    "fruit_info = ''\n",
    "for index, (color, fruit) in enumerate(fruit_dict.items()):\n",
    "    fruit_info += f'[{index}] {color.upper()}: {fruit.title()}\\n'\n",
    "\n",
    "print(fruit_info)"
   ]
  },
  {
   "cell_type": "markdown",
   "metadata": {},
   "source": [
    "### 3. list의 copy()메서드가 하는 일과, copy()를 사용하지 않았을 때 발생할 수 있는 오류에 대한 예제 코드를 작성하시오. [10점]"
   ]
  },
  {
   "cell_type": "markdown",
   "metadata": {},
   "source": [
    "list의 copy()메서드는 완전히 똑같은 리스트를 다른 메모리 주소에 복사하는 것을 말한다. 리스트를 생성한 후에 또다른 새로운 리스트를 기존 리스트에 참조한다고 가정하면 기존 리스트와 새로운 리스트는 같은 메모리 주소를 가리킨다. 따라서 독립적인 별개의 리스트를 만들려면 copy()를 이용해야한다."
   ]
  },
  {
   "cell_type": "code",
   "execution_count": 42,
   "metadata": {},
   "outputs": [
    {
     "name": "stdout",
     "output_type": "stream",
     "text": [
      "[1, 2, 3, 4, 5]\n"
     ]
    }
   ],
   "source": [
    "# list1을 생성한다.\n",
    "list1 = [1,2,3,4]\n",
    "# list1을 참조하는 list2를 생성한다.\n",
    "list2 = list1\n",
    "# list1에 새로운 값을 append한다\n",
    "list1.append(5)\n",
    "# list2에 추가하지 않은 값이 포함되어있다.\n",
    "print(list2)"
   ]
  },
  {
   "cell_type": "markdown",
   "metadata": {},
   "source": [
    "### 4. 1에서 30까지의 숫자 중, 3부터 시작해서 4번째마다의 숫자를 가지는 리스트를 생성하시오. [5점]"
   ]
  },
  {
   "cell_type": "code",
   "execution_count": 44,
   "metadata": {},
   "outputs": [
    {
     "name": "stdout",
     "output_type": "stream",
     "text": [
      "[3, 7, 11, 15, 19, 23, 27]\n"
     ]
    }
   ],
   "source": [
    "list1 = list()\n",
    "for i in range(1,30):\n",
    "    if i % 4 == 3:\n",
    "        list1.append(i)\n",
    "    \n",
    "print(list1)"
   ]
  },
  {
   "cell_type": "markdown",
   "metadata": {},
   "source": [
    "#### 5. dict형 객체인 obj가 있다고 할 때, obj['key']와 obj.get('key')의 차이를 서술하시오. [5점]"
   ]
  },
  {
   "cell_type": "markdown",
   "metadata": {},
   "source": [
    "obj['key']는 dict의 'key'값이 없다면 KeyError를 일으키지만 obj.get('key')의 경우 값이 없더라도 에러를 발생하지 않고 None값을 반환한다. 키가 없을 경우 반환되는 디폴트 값을 설정할 수 있다. 따로 설정하지 않는다면 None을 반환한다."
   ]
  },
  {
   "cell_type": "markdown",
   "metadata": {},
   "source": [
    "#### 6. 튜플 언패킹에 대해 서술하고, pokemon_info 객체를 순회할 때 튜플 언패킹을 사용하는 예제 코드를 작성하시오. [10점]"
   ]
  },
  {
   "cell_type": "markdown",
   "metadata": {},
   "source": [
    "튜플 언패킹이란 1개 이상의 원소를 갖고 있는 시퀀스 객체를 여러 개의 변수에 나누어 담는 것을 말한다. 대신 갖고 있는 원소만큼 변수를 할당해야한다."
   ]
  },
  {
   "cell_type": "code",
   "execution_count": 46,
   "metadata": {},
   "outputs": [],
   "source": [
    "pokemon_info = [\n",
    "    ('피카츄', '전기 타입'),\n",
    "    ('파이리', '불 타입'),\n",
    "    ('꼬부기', '물 타입'),\n",
    "    ('이상해씨', '풀 타입'),\n",
    "]"
   ]
  },
  {
   "cell_type": "code",
   "execution_count": 48,
   "metadata": {},
   "outputs": [],
   "source": [
    "electric, fire, water, leaf = pokemon_info"
   ]
  },
  {
   "cell_type": "code",
   "execution_count": 50,
   "metadata": {},
   "outputs": [
    {
     "name": "stdout",
     "output_type": "stream",
     "text": [
      "('피카츄', '전기 타입') ('파이리', '불 타입') ('꼬부기', '물 타입') ('이상해씨', '풀 타입')\n"
     ]
    }
   ],
   "source": [
    "print(electric, fire, water, leaf)"
   ]
  },
  {
   "cell_type": "markdown",
   "metadata": {},
   "source": [
    "#### 7. 함수에서 위치인자와 키워드인자의 차이점에 대해 서술하시오. [5점]"
   ]
  },
  {
   "cell_type": "markdown",
   "metadata": {},
   "source": [
    "위치인자와 키워드인자의 차이점은 사용하는 방법에 있다. 위치인자는 함수에 인자를 전달할 때 명시하지 않고 객체를 전달하고 키워드 인자는 이름을 명시해서 객체를 전달하는 차이가 있다. 따라서 위치인자는 함수의 매개변수의 순서대로 매칭이 되므로 순서에 유의해야한다. 키워드 인자는 이름을 붙여서 전달하기 때문에 순서에 영향을 받지 않는다. 만약에 위치인자와 키워드 인자 동시에 사용할 경우 위치인자는 항상 키워드인자 앞에 사용해야한다."
   ]
  },
  {
   "cell_type": "markdown",
   "metadata": {},
   "source": [
    "#### 8. 클래스와 인스턴스의 다음 사항들에 대해 서술하시오."
   ]
  },
  {
   "cell_type": "markdown",
   "metadata": {},
   "source": [
    "##### 8 -1 클래스와 인스턴스의 차이점 [2점]\n",
    "\n",
    "클래스와 인스턴스의 차이점은 형태에 있다. 클래스는 객체의 타입을 정의한다. 그 정의된 타입을 갖고 있는 객체를 인스턴스라고 부른다. 비유로 붕어빵 모양의 틀 자체는 클래스지만 그 틀에 의해 찍어나온 붕어빵은 인스턴스라고 할 수 있다\n",
    "\n",
    "##### 8 - 2 클래스의 생성자 함수 이름[1점]\n",
    "\n",
    "클래스의 생성자 함수는 **\\_\\_init\\_\\_**을 사용한다\n",
    "\n",
    "##### 8 - 3 클래스의 생성자 함수가 호출되는 시점은?[2점]\n",
    "\n",
    "클래스의 생성자 함수는 처음 인스턴스가 생성되는 순간 호출된다.\n",
    "\n",
    "##### 8 - 4인스턴스 메서드의 self매개변수의 의미 [4점]\n",
    "\n",
    "self 매개변수는 인스턴스 자신을 의미한다. 따라서 인스턴스의 메소드들은 첫번째 인자로 항상 self를 받아야한다."
   ]
  },
  {
   "cell_type": "markdown",
   "metadata": {},
   "source": [
    "#### 9. property를 정의하는 방법에 대해 서술하시오. [5점]"
   ]
  },
  {
   "cell_type": "markdown",
   "metadata": {},
   "source": [
    "- getter를 만드는 방법\n",
    "해당 메서드위에 @property를 붙이고 읽으려고 하는 값을 반환하도록 한다.\n",
    "\n",
    "- setter를 만드는 방법\n",
    "해당 메서드위에 @메서드이름.setter를 붙여서 사용한다\n"
   ]
  },
  {
   "cell_type": "markdown",
   "metadata": {},
   "source": [
    "#### 10. 아래와 같은 User클래스가 있다. 이 클래스를 상속받은 Student클래스를 정의하고, 초기화 메서드에서 name과 함께age라는 매개변수를 추가로 사용해 인스턴스의 age속성을 추가로 정의하도록 한다. [10점]"
   ]
  },
  {
   "cell_type": "code",
   "execution_count": 54,
   "metadata": {},
   "outputs": [],
   "source": [
    "class User:\n",
    "    def __init__(self, name):\n",
    "        self.name = name\n",
    "        \n",
    "class Student(User):\n",
    "    def __init__(self, name, age):\n",
    "        super().__init__(name)\n",
    "        self.age = age\n",
    "\n"
   ]
  },
  {
   "cell_type": "markdown",
   "metadata": {},
   "source": [
    "#### 11. url주소로부터 아래 결과를 출력한다. [10점]\n",
    "\n"
   ]
  },
  {
   "cell_type": "code",
   "execution_count": 62,
   "metadata": {},
   "outputs": [
    {
     "name": "stdout",
     "output_type": "stream",
     "text": [
      "top[#2] 격전을 준비하세요! (수정)\n",
      "top격전 참여시 불건전 행위에 대한 주의사항 안내(수정)\n",
      "대리 게임 등 적발 현황 263차 안내\n",
      "부정행위 프로그램 제재 현황 안내\n",
      "6월 2차 소환사 문화재지킴이 모집 안내\n",
      "일부 클라이언트 오류 현상에 대한 안내 (정상화)\n",
      "6월 6일(수) 서버 점검 안내 (완료)\n",
      "PBE 인사이드 20화(8.12 패치 편) 방송 안내\n",
      "다시 돌아온 격전! 얼불져스 6/5(화) 방송 일정 안내\n",
      "1일 격전 테스트에 참여해 주세요\n",
      "대리 게임 등 적발 현황 262차 안내\n",
      "부정행위 프로그램 제재 현황 안내\n"
     ]
    }
   ],
   "source": [
    "import requests\n",
    "from bs4 import BeautifulSoup\n",
    "\n",
    "url = 'http://www.leagueoflegends.co.kr/?m=news&cate=notice'\n",
    "response = requests.get(url)\n",
    "soup = BeautifulSoup(response.text, 'lxml')\n",
    "td_tleft = soup.select('td.tleft > a')\n",
    "result = list()\n",
    "for td in td_tleft:\n",
    "    result.append(td.get_text(strip=True))\n",
    "\n",
    "print('\\n'.join(result))\n",
    "\n"
   ]
  },
  {
   "cell_type": "markdown",
   "metadata": {},
   "source": [
    "#### 12. url주소에 있는 공지사항에 해당하는 Notice클래스를 만들고, 크롤링시 공지사항 하나마다 Notice클래스 인스턴스를 만들어 notice_list리스트에 추가한다. [10점]"
   ]
  },
  {
   "cell_type": "code",
   "execution_count": null,
   "metadata": {},
   "outputs": [],
   "source": [
    "import requests\n",
    "from bs4 import BeautifulSoup\n",
    "\n",
    "\n",
    "class Notice:\n",
    "    def __init__(self, title, date, view):\n",
    "        self.title = title\n",
    "        self.date = date\n",
    "        self.view = view\n",
    "\n",
    "    def __repr__(self):\n",
    "        return f'{self.title}'\n",
    "\n",
    "\n",
    "url = 'http://www.leagueoflegends.co.kr/?m=news&cate=notice'\n",
    "response = requests.get(url)\n",
    "soup = BeautifulSoup(response.text, 'lxml')\n",
    "\n",
    "tr_list = soup.select('tbody > tr')\n",
    "\n",
    "notice_list = list()\n",
    "for tr in tr_list:\n",
    "    title = tr.select_one('td.tleft > a').get_text(strip=True)\n",
    "    date = tr.select('td')[1].get_text(strip=True)\n",
    "    view = tr.select('td')[2].get_text(strip=True)\n",
    "    new_notice = Notice(title, date, view)\n",
    "    notice_list.append(new_notice)\n",
    "\n",
    "\n",
    "print(notice_list)"
   ]
  },
  {
   "cell_type": "markdown",
   "metadata": {},
   "source": [
    "#### 13. runserver가 localhost:8000에서 입력을 받는 상태로 동작 중일 때, 브라우저에서 http://localhost:8000/abc/URL을 입력하면 어떤 절차를 거쳐 사용자에게 다시 화면을 보여주는지 서술하시오. [10점]"
   ]
  },
  {
   "cell_type": "code",
   "execution_count": null,
   "metadata": {},
   "outputs": [],
   "source": []
  },
  {
   "cell_type": "code",
   "execution_count": null,
   "metadata": {},
   "outputs": [],
   "source": []
  },
  {
   "cell_type": "code",
   "execution_count": null,
   "metadata": {},
   "outputs": [],
   "source": []
  }
 ],
 "metadata": {
  "kernelspec": {
   "display_name": "Python 3",
   "language": "python",
   "name": "python3"
  },
  "language_info": {
   "codemirror_mode": {
    "name": "ipython",
    "version": 3
   },
   "file_extension": ".py",
   "mimetype": "text/x-python",
   "name": "python",
   "nbconvert_exporter": "python",
   "pygments_lexer": "ipython3",
   "version": "3.6.4"
  }
 },
 "nbformat": 4,
 "nbformat_minor": 2
}
